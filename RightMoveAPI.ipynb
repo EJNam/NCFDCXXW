{
 "cells": [
  {
   "cell_type": "code",
   "execution_count": null,
   "metadata": {},
   "outputs": [],
   "source": [
    "import requests\n",
    "import random\n",
    "import time\n",
    "import socket\n",
    "import http.client\n",
    "import json\n",
    "import pandas as pd"
   ]
  },
  {
   "cell_type": "code",
   "execution_count": null,
   "metadata": {
    "scrolled": true
   },
   "outputs": [],
   "source": [
    "def get_html(index=0, minP=None, maxP=None, minBed=None, maxBed=None):\n",
    "    base_url = 'https://www.rightmove.co.uk/api/_search?'\n",
    "    payload = {\n",
    "        \"index\": index*24,\n",
    "        \"sortType\": 6, #大于1000条可通过排序正反抓取两次\n",
    "        \"numberOfPropertiesPerPage\": 24,\n",
    "        \"locationIdentifier\": \"REGION^79192\",\n",
    "        \"viewType\": \"LIST\",\n",
    "        \"includeLetAgreed\": \"true\",\n",
    "        \"minBedrooms\": minBed,\n",
    "        \"maxBedrooms\": maxBed,\n",
    "        \"minPrice\": minP,\n",
    "        \"maxPrice\": maxP,\n",
    "        \"propertyTypes\": [\"flat\", \"detached\", \"semi-detached\", \"terraced\", \"bungalow\"],\n",
    "        \"must_have\": [],\n",
    "        \"dontShow\": [\"student\", \"retirement\"],\n",
    "        \"channel\": \"RENT\",\n",
    "        \"areaSizeUnit\":\"sqft\",\n",
    "        \"currencyCode\":\"GBP\",\n",
    "        \"isFetching\":\"false\"\n",
    "        }\n",
    "    header = {\n",
    "        'Accept': 'text/html,application/xhtml+xml,application/xml;q=0.9,image/webp,*/*;q=0.8',\n",
    "        'Accept-Language': 'en,en-US;q=0.8,zh-CN;q=0.7,zh;q=0.5,zh-TW;q=0.3,zh-HK;q=0.2',\n",
    "        'User-Agent': 'Mozilla/5.0 (Windows NT 10.0; Win64; x64; rv:81.0) Gecko/20100101 Firefox/81.0'\n",
    "            }\n",
    "    timeout = random.choice(range(80, 100))\n",
    "    while True:\n",
    "        try:\n",
    "            response = requests.get(base_url, params=payload, headers = header, timeout = timeout)\n",
    "            response.encoding = 'utf-8'\n",
    "            break\n",
    "        except socket.timeout as e:\n",
    "            print(e)\n",
    "            time.sleep(random.choice(range(20, 60)))\n",
    "        except socket.error as e:\n",
    "            print(e)\n",
    "            time.sleep(random.choice(range(0, 60)))\n",
    "        except http.client.BadStatusLine as e:\n",
    "            print(e)\n",
    "            time.sleep(random.choice(range(30, 60)))\n",
    "        except http.client.IncompleteRead as e:\n",
    "            print(e)\n",
    "            time.sleep(random.choice(range(20, 60)))\n",
    "    print(response.url)\n",
    "    return response.json()\n",
    "\n",
    "def data_output(data, filename):\n",
    "    with open(filename, 'a', errors='ignore', newline='', encoding='utf-8') as f:\n",
    "        f_csv = csv.writer(f)\n",
    "        f_csv.writerows(data)\n",
    "    \n",
    "if __name__ == '__main__':\n",
    "    pro_df = pd.DataFrame()\n",
    "    mylist1 = [None, 500, 600]\n",
    "    mylist2 = [600, 700, 800, 900, 1000]\n",
    "    mylist3 = [1000, 1100, 1250, None]\n",
    "    for j in range(len(mylist2)-1):\n",
    "        html = get_html(index=0, minP=mylist2[j], maxP=mylist2[j+1])\n",
    "        page = html['pagination']['total']\n",
    "        for i in range(page):\n",
    "            html = get_html(index=i, minP=mylist2[j], maxP=mylist2[j+1])\n",
    "            pro_df = pro_df.append(pd.DataFrame(html['properties']))\n",
    "            time.sleep(random.choice(range(2)))\n",
    "\n",
    "  #  data_output(result, 'rightmove.csv')"
   ]
  },
  {
   "cell_type": "code",
   "execution_count": null,
   "metadata": {},
   "outputs": [],
   "source": [
    "    for j in range(len(mylist3)-1): #mylist1 and mylist3\n",
    "        html = get_html(index=0, minP=mylist3[j], maxP=mylist3[j+1])\n",
    "        page = html['pagination']['total']\n",
    "        for i in range(page):\n",
    "            html = get_html(index=i, minP=mylist3[j], maxP=mylist3[j+1])\n",
    "            pro_df = pro_df.append(pd.DataFrame(html['properties']))\n",
    "            time.sleep(random.choice(range(2)))"
   ]
  },
  {
   "cell_type": "code",
   "execution_count": null,
   "metadata": {},
   "outputs": [],
   "source": [
    "pro_df.columns.tolist()"
   ]
  },
  {
   "cell_type": "markdown",
   "metadata": {},
   "source": [
    "##### 重置行索引"
   ]
  },
  {
   "cell_type": "code",
   "execution_count": null,
   "metadata": {},
   "outputs": [],
   "source": [
    "#pro_df = pro_df.reset_index()\n",
    "pro_df"
   ]
  },
  {
   "cell_type": "markdown",
   "metadata": {},
   "source": [
    "##### 查找重复"
   ]
  },
  {
   "cell_type": "code",
   "execution_count": null,
   "metadata": {},
   "outputs": [],
   "source": [
    "dups = pro_df.pivot_table(index=['id'], aggfunc='size')\n",
    "#dups = pd.DataFrame(dups)\n",
    "dups[dups==2]"
   ]
  },
  {
   "cell_type": "code",
   "execution_count": null,
   "metadata": {},
   "outputs": [],
   "source": [
    "pro_df.index[pro_df['id']==50810189,].tolist()"
   ]
  },
  {
   "cell_type": "code",
   "execution_count": null,
   "metadata": {},
   "outputs": [],
   "source": [
    "pro_df.loc[pro_df['identifier'].isin(dups.index[:])]"
   ]
  },
  {
   "cell_type": "markdown",
   "metadata": {},
   "source": [
    "##### 去重"
   ]
  },
  {
   "cell_type": "code",
   "execution_count": null,
   "metadata": {},
   "outputs": [],
   "source": [
    "pro_df_dedup = pro_df.drop_duplicates(\"id\")\n",
    "pro_df_dedup"
   ]
  },
  {
   "cell_type": "code",
   "execution_count": null,
   "metadata": {},
   "outputs": [],
   "source": [
    "pro_df_dedup.to_csv('rightmove1.csv')"
   ]
  }
 ],
 "metadata": {
  "kernelspec": {
   "display_name": "Python 3",
   "language": "python",
   "name": "python3"
  },
  "language_info": {
   "codemirror_mode": {
    "name": "ipython",
    "version": 3
   },
   "file_extension": ".py",
   "mimetype": "text/x-python",
   "name": "python",
   "nbconvert_exporter": "python",
   "pygments_lexer": "ipython3",
   "version": "3.7.4"
  }
 },
 "nbformat": 4,
 "nbformat_minor": 2
}
