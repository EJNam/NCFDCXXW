{
 "cells": [
  {
   "cell_type": "code",
   "execution_count": 2,
   "metadata": {},
   "outputs": [],
   "source": [
    "import requests\n",
    "url = \"https://item.jd.com/2967928.html\"\n",
    "try:\n",
    "    r = requests.get(url)\n",
    "    r.raise_for_status()\n",
    "    r.encoding = r.apparent_encoding\n",
    "    r.status_code\n",
    "except:\n",
    "    print(\"爬取失败\")"
   ]
  },
  {
   "cell_type": "code",
   "execution_count": null,
   "metadata": {},
   "outputs": [],
   "source": [
    "import requests\n",
    "kv = {'wd' : 'Python'}\n",
    "kp = {'user-agent' : 'Mozilla/5.0'}\n",
    "r = requests.get(\"https://www.baidu.com/s\",headers = kp , params = kv)\n",
    "r.status_code\n",
    "r.request.headers"
   ]
  },
  {
   "cell_type": "code",
   "execution_count": 1,
   "metadata": {},
   "outputs": [
    {
     "name": "stdout",
     "output_type": "stream",
     "text": [
      "https://www.baidu.com/s?wd=Python\n",
      "227\n"
     ]
    }
   ],
   "source": [
    "import requests\n",
    "kv = {'wd' : 'Python'}\n",
    "kp = {'User-Agent' : 'Mozilla/5.0'}\n",
    "try:\n",
    "    r = requests.get(\"https://www.baidu.com/s\",headers = kp ,params = kv)\n",
    "    print(r.request.url)\n",
    "    r.raise_for_status()\n",
    "    print(len(r.text))\n",
    "except:\n",
    "    print(\"爬取失败\")"
   ]
  },
  {
   "cell_type": "code",
   "execution_count": null,
   "metadata": {},
   "outputs": [],
   "source": [
    "import requests\n",
    "kv = {'q' : 'Python'}\n",
    "try:\n",
    "    r = requests.get(\"https://www.so.com/s\", params = kv)\n",
    "    print(r.request.url)\n",
    "    r.raise_for_status()\n",
    "    print(len(r.text))\n",
    "except:\n",
    "    print(\"爬取失败\")"
   ]
  },
  {
   "cell_type": "code",
   "execution_count": 2,
   "metadata": {},
   "outputs": [
    {
     "name": "stdout",
     "output_type": "stream",
     "text": [
      "文件保存成功\n"
     ]
    }
   ],
   "source": [
    "import requests\n",
    "import os\n",
    "url = \"http://image.nationalgeographic.com.cn/2017/1221/20171221102846417.jpg\"\n",
    "root = \"D://pics//\"\n",
    "path = root + url.split('/')[-1]\n",
    "try:\n",
    " if not os.path.exists(root):\n",
    "  os.mkdir(root)\n",
    " if not os.path.exists(path):\n",
    "  r = requests.get(url)\n",
    "  with open(path,'wb') as f:\n",
    "   f.write(r.content)\n",
    "   f.close()\n",
    "   print(\"文件保存成功\")\n",
    " else:\n",
    "  print(\"文件已存在\")\n",
    "except:\n",
    " print(\"爬取失败\")"
   ]
  },
  {
   "cell_type": "code",
   "execution_count": null,
   "metadata": {},
   "outputs": [],
   "source": [
    "import os\n",
    "help (os)"
   ]
  },
  {
   "cell_type": "code",
   "execution_count": null,
   "metadata": {},
   "outputs": [],
   "source": [
    "import requests\n",
    "from bs4 import BeautifulSoup\n",
    "import bs4\n",
    "\n",
    "def getHTMLText(url):\n",
    "    try:\n",
    "        r =  requests.get(url, timeout=30)\n",
    "        r.raise_for_status()\n",
    "        r.encoding = r.apparent_encoding\n",
    "        return r.text\n",
    "    except:\n",
    "        return \"\"\n",
    "def fillUnivList(ulist, html):\n",
    "    soup = BeautifulSoup(html, \"html.parser\")\n",
    "    for tr in soup.find('tbody').children:\n",
    "        if isinstance(tr, bs4.element.Tag):\n",
    "            tds = tr('td')\n",
    "            ulist.append([tds[0].string, tds[1].string, tds[3].string])\n",
    "            \n",
    "def printUnivList(ulist, num):\n",
    "    tplt = \"{0:^10}\\t{1:{3}^20}\\t{2:^10}\"\n",
    "    print(tplt.format(\"排名\", \"学校名称\", \"总分 \", chr(12288)))\n",
    "    for i in range(num):\n",
    "        u=ulist[i]\n",
    "        print(tplt.format(u[0], u[1], u[2], chr(12288)))\n",
    "\n",
    "def main():\n",
    "    uinfo = []\n",
    "    url = 'http://www.zuihaodaxue.com/zuihaodaxuepaiming2016.html'\n",
    "    html = getHTMLText(url)\n",
    "    fillUnivList(uinfo, html)\n",
    "    printUnivList(uinfo, 20)\n",
    "main()"
   ]
  },
  {
   "cell_type": "code",
   "execution_count": null,
   "metadata": {},
   "outputs": [],
   "source": [
    "#CrowTaobaoPrice.py\n",
    "import requests\n",
    "import re\n",
    "\n",
    "def getHTMLText(url):\n",
    "    try:\n",
    "        r = requests.get(url, timeout=30)\n",
    "        r.raise_for_status()\n",
    "        r.encoding = r.apparent_encoding\n",
    "        return r.text\n",
    "    except: \n",
    "        return \"\"\n",
    "    \n",
    "def parsePage(ilt, html):\n",
    "    try:\n",
    "        plt = re.findall(r'\\\"view_price\\\"\\:\\\"[\\d\\.]*\\\"',html)\n",
    "        tlt = re.findall(r'\\\"raw_title\\\"\\:\\\".*?\\\"',html)\n",
    "        for i in range(len(plt)):\n",
    "            price = eval(plt[i].split(':')[1])\n",
    "            title = eval(tlt[i].split(':')[1])\n",
    "            ilt.append([price , title])\n",
    "    except:\n",
    "        print(\"\")\n",
    "\n",
    "def printGoodsList(ilt):\n",
    "    tplt = \"{:4}\\t{:8}\\t{:16}\"\n",
    "    print(tplt.format(\"序号\", \"价格\", \"商品名称\"))\n",
    "    count = 0\n",
    "    for g in ilt:\n",
    "        count = count + 1\n",
    "        print(tplt.format(count, g[0], g[1]))\n",
    "        \n",
    "def main():\n",
    "    goods = '书包'\n",
    "    depth = 3\n",
    "    start_url = 'https://s.taobao.com/search?q=' + goods\n",
    "    infoList = []\n",
    "    for i in range(depth):\n",
    "        try:\n",
    "            url = start_url + '&s=' + str(44*i)\n",
    "            html = getHTMLText(url)\n",
    "            parsePage(infoList, html)\n",
    "        except:\n",
    "            continue\n",
    "    printGoodsList(infoList)\n",
    "    \n",
    "main()\n"
   ]
  },
  {
   "cell_type": "code",
   "execution_count": null,
   "metadata": {
    "collapsed": true
   },
   "outputs": [
    {
     "name": "stdout",
     "output_type": "stream",
     "text": [
      "当前速度: 48.72%"
     ]
    }
   ],
   "source": [
    "import requests\n",
    "from bs4 import BeautifulSoup\n",
    "import traceback\n",
    "import re\n",
    "\n",
    "def getHTMLText(url):\n",
    "    try:\n",
    "        r = requests.get(url, timeout = 30)\n",
    "        r.raise_for_status()\n",
    "        r.encoding = r.apparent_encoding\n",
    "        return r.text\n",
    "    except:  \n",
    "        return \"\"\n",
    "\n",
    "def getStockList(lst, stockURL):\n",
    "    html = getHTMLText(stockURL)\n",
    "    soup = BeautifulSoup(html, 'html.parser')\n",
    "    a = soup.find_all('a')\n",
    "    for i in a:\n",
    "        try:\n",
    "            href = i.attrs['href']\n",
    "            lst.append(re.findall(r\"[s][hz]\\d{6}\", href)[0])\n",
    "        except:\n",
    "            continue\n",
    "\n",
    "def getStockInfo(lst, stockURL, fpath):\n",
    "    count = 0\n",
    "    for stock in lst:\n",
    "        url = stockURL + stock + '.html'\n",
    "        html = getHTMLText(url)\n",
    "        try:\n",
    "            if html == \"\":\n",
    "                continue\n",
    "            infoDict = {}\n",
    "            soup = BeautifulSoup(html, 'html.parser')\n",
    "            stockInfo = soup.find('div', attrs={'class':'stock-bets'})\n",
    "            \n",
    "            name = stockInfo.find_all(attrs={'class':'bets-name'})[0]\n",
    "            infoDict.update({'股票名称': name.text.split()[0]})\n",
    "            \n",
    "            keyList = stockInfo.find_all('dt')\n",
    "            valueList = stockInfo.find_all('dd')\n",
    "            for i in range(len(keyList)):\n",
    "                key = keyList[i].text\n",
    "                val = valueList[i].text\n",
    "                infoDict[key] = val\n",
    "                \n",
    "            with open(fpath, 'a', encoding='utf-8') as f:\n",
    "                f.write( str(infoDict) + '\\n')\n",
    "                count = count + 1\n",
    "                print('\\r当前速度: {:.2f}%'.format(count*100/len(lst)),end='')\n",
    "        except:\n",
    "            count = count + 1\n",
    "            print(\"\\r当前进度: {:.2f}%\".format(count*100/len(lst)),end=\"\")\n",
    "            continue\n",
    "\n",
    "def main():\n",
    "    stock_list_url = 'http://quote.eastmoney.com/stocklist.html'\n",
    "    stock_info_url = 'https://gupiao.baidu.com/stock/'\n",
    "    output_file = 'F://BaiduStockInfo.txt'\n",
    "    slist=[]\n",
    "    getStockList(slist, stock_list_url)\n",
    "    getStockInfo(slist, stock_info_url, output_file)\n",
    "    \n",
    "main()"
   ]
  }
 ],
 "metadata": {
  "kernelspec": {
   "display_name": "Python 3",
   "language": "python",
   "name": "python3"
  },
  "language_info": {
   "codemirror_mode": {
    "name": "ipython",
    "version": 3
   },
   "file_extension": ".py",
   "mimetype": "text/x-python",
   "name": "python",
   "nbconvert_exporter": "python",
   "pygments_lexer": "ipython3",
   "version": "3.7.4"
  }
 },
 "nbformat": 4,
 "nbformat_minor": 2
}
