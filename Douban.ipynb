{
 "cells": [
  {
   "cell_type": "code",
   "execution_count": 62,
   "metadata": {},
   "outputs": [],
   "source": [
    "# -*- coding: utf-8 -*-\n",
    "from bs4 import BeautifulSoup\n",
    "import requests\n",
    "import csv\n",
    "import random\n",
    "import time\n",
    "import socket\n",
    "import http.client\n"
   ]
  },
  {
   "cell_type": "code",
   "execution_count": 75,
   "metadata": {},
   "outputs": [],
   "source": [
    "def get_html(url, data = None):\n",
    "    header = {\n",
    "        'Accept': 'text/html,application/xhtml+xml,application/xml;q=0.9,image/webp,*/*;q=0.8',\n",
    "        'Accept-Language': 'en,en-US;q=0.8,zh-CN;q=0.7,zh;q=0.5,zh-TW;q=0.3,zh-HK;q=0.2',\n",
    "        'User-Agent': 'Mozilla/5.0 (Macintosh; Intel Mac OS X 10_13_6) AppleWebKit/537.36 (KHTML, like Gecko) Chrome/67.0.3396.99 Safari/537.36'\n",
    "            }\n",
    "    timeout = random.choice(range(80, 100))\n",
    "    while True:\n",
    "        try:\n",
    "            response = requests.get(url, headers = header, timeout = timeout)\n",
    "            response.encoding = 'utf-8'\n",
    "            break\n",
    "        except socket.timeout as e:\n",
    "            print(e)\n",
    "            time.sleep(random.choice(range(20, 60)))\n",
    "        except socket.error as e:\n",
    "            print(e)\n",
    "            time.sleep(random.choice(range(0, 60)))\n",
    "        except http.client.BadStatusLine as e:\n",
    "            print(e)\n",
    "            time.sleep(random.choice(range(30, 60)))\n",
    "        except http.client.IncompleteRead as e:\n",
    "            print(e)\n",
    "            time.sleep(random.choice(range(20, 60)))\n",
    "    return response.text\n",
    "    \n",
    "def get_data(html_text):\n",
    "    result = []\n",
    "    soup = BeautifulSoup(html_text, \"html.parser\")\n",
    "    for tag in soup.find_all('div', class_=\"item\"):\n",
    "        temp = []\n",
    "        try:\n",
    "            ta = tag.find('em').string\n",
    "            temp.append(ta)\n",
    "            name = tag.find('span').string\n",
    "            temp.append(name)\n",
    "            English = tag.find_all('span', class_=\"title\")\n",
    "            if len(English)==2:\n",
    "                temp.append((English[1].get_text().replace('\\xa0/\\xa0','')))\n",
    "            else:\n",
    "                temp.append(\"\")\n",
    "            result.append(temp)\n",
    "        except IndexError: \n",
    "            pass\n",
    "    return result\n",
    "\n",
    "def data_output(data, filename):\n",
    "    with open(filename, 'a', errors='ignore', newline='', encoding='utf-8') as f:\n",
    "        f_csv = csv.writer(f)\n",
    "        f_csv.writerows(data)\n",
    "        \n",
    "if __name__ == '__main__':\n",
    "    for i in range(0, 250, 25):\n",
    "        url = 'https://movie.douban.com/top250?start=0' + str(i)\n",
    "        html = get_html(url)\n",
    "        result = get_data(html)\n",
    "        data_output(result, 'top250.csv')"
   ]
  },
  {
   "cell_type": "code",
   "execution_count": 57,
   "metadata": {},
   "outputs": [
    {
     "name": "stdout",
     "output_type": "stream",
     "text": [
      "https://movie.douban.com/top250?start=0\n",
      "63272\n"
     ]
    }
   ],
   "source": [
    "baseurl = \"https://movie.douban.com/top250?start=0\"\n",
    "\n",
    "kp = {'User-Agent' : 'Mozilla/5.0 (Windows NT 10.0; Win64; x64; rv:81.0) Gecko/20100101 Firefox/81.0'}\n",
    "try:\n",
    "    r = requests.get(baseurl, headers = kp)\n",
    "    print(r.request.url)\n",
    "    r.raise_for_status()\n",
    "    print(len(r.text))\n",
    "except:\n",
    "    print(\"爬取失败\")\n",
    "    "
   ]
  },
  {
   "cell_type": "code",
   "execution_count": 65,
   "metadata": {},
   "outputs": [
    {
     "data": {
      "text/plain": [
       "[['1', '肖申克的救赎', 'The Shawshank Redemption'],\n",
       " ['2', '霸王别姬', ''],\n",
       " ['3', '阿甘正传', 'Forrest Gump'],\n",
       " ['4', '这个杀手不太冷', 'Léon'],\n",
       " ['5', '泰坦尼克号', 'Titanic'],\n",
       " ['6', '美丽人生', 'La vita è bella'],\n",
       " ['7', '千与千寻', '千と千尋の神隠し'],\n",
       " ['8', '辛德勒的名单', \"Schindler's List\"],\n",
       " ['9', '盗梦空间', 'Inception'],\n",
       " ['10', '忠犬八公的故事', \"Hachi: A Dog's Tale\"],\n",
       " ['11', '海上钢琴师', \"La leggenda del pianista sull'oceano\"],\n",
       " ['12', '星际穿越', 'Interstellar'],\n",
       " ['13', '楚门的世界', 'The Truman Show'],\n",
       " ['14', '三傻大闹宝莱坞', '3 Idiots'],\n",
       " ['15', '机器人总动员', 'WALL·E'],\n",
       " ['16', '放牛班的春天', 'Les choristes'],\n",
       " ['17', '大话西游之大圣娶亲', '西遊記大結局之仙履奇緣'],\n",
       " ['18', '熔炉', '도가니'],\n",
       " ['19', '疯狂动物城', 'Zootopia'],\n",
       " ['20', '无间道', '無間道'],\n",
       " ['21', '教父', 'The Godfather'],\n",
       " ['22', '龙猫', 'となりのトトロ'],\n",
       " ['23', '当幸福来敲门', 'The Pursuit of Happyness'],\n",
       " ['24', '怦然心动', 'Flipped'],\n",
       " ['25', '触不可及', 'Intouchables']]"
      ]
     },
     "execution_count": 65,
     "metadata": {},
     "output_type": "execute_result"
    }
   ],
   "source": [
    "\n",
    "result = []\n",
    "soup = BeautifulSoup(r.text, 'html.parser')\n",
    "for tag in soup.find_all('div', class_=\"item\"):\n",
    "    temp = []\n",
    "    try:\n",
    "        ta = tag.find('em').string\n",
    "        temp.append(ta)\n",
    "        name = tag.find('span').string\n",
    "        temp.append(name)\n",
    "        English = tag.find_all('span', class_=\"title\")\n",
    "        if len(English)==2:\n",
    "            temp.append((English[1].get_text().replace('\\xa0/\\xa0','')))\n",
    "        else:\n",
    "            temp.append(\"\")\n",
    "        result.append(temp)\n",
    "    except IndexError: \n",
    "        pass\n",
    "result"
   ]
  }
 ],
 "metadata": {
  "kernelspec": {
   "display_name": "Python 3",
   "language": "python",
   "name": "python3"
  },
  "language_info": {
   "codemirror_mode": {
    "name": "ipython",
    "version": 3
   },
   "file_extension": ".py",
   "mimetype": "text/x-python",
   "name": "python",
   "nbconvert_exporter": "python",
   "pygments_lexer": "ipython3",
   "version": "3.7.4"
  }
 },
 "nbformat": 4,
 "nbformat_minor": 2
}
