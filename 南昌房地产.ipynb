{
 "cells": [
  {
   "cell_type": "code",
   "execution_count": null,
   "metadata": {},
   "outputs": [],
   "source": [
    "import requests\n",
    "from bs4 import BeautifulSoup\n",
    "\n",
    "def getHTMLText(url):\n",
    "    try:\n",
    "        headers = { 'Host': 'www.ncfdc.com.cn:8092',\n",
    "                    'User-Agent': 'Mozilla/5.0 (Windows NT 10.0; Win64; x64; rv:53.0) Gecko/20100101 Firefox/53.0',\n",
    "                    'Accept': 'text/html,application/xhtml+xml,application/xml;q=0.9,*/*;q=0.8',\n",
    "                    'Accept-Language': 'zh-CN,zh;q=0.8,en-US;q=0.5,en;q=0.3',\n",
    "                    'Accept-Encoding': 'gzip, deflate',\n",
    "                    'Referer': 'http://house.ncfdc.com.cn/default.aspx?tname=60/ProjectInfoMain&hrefID=281',\n",
    "                    'DNT': '1',\n",
    "                    'Connection': 'keep-alive',\n",
    "                    'Upgrade-Insecure-Requests': '1',\n",
    "                    'Cache-Control': 'max-age=0'}\n",
    "        cookie = {'pgv_pvi':'2100119552',\n",
    "                  'ASP.NET_SessionId':'ahgyrwiohzjvrdf104cjq322',\n",
    "                 ' pgv_si':'s5275948032'}\n",
    "        res = requests.get(url, headers = headers, cookies = cookie, timeout = 30)\n",
    "        res.raise_for_status()\n",
    "        res.encoding = 'utf-8'\n",
    "        return res.text\n",
    "    except:  \n",
    "        return \"\"\n",
    "    \n",
    "def getFDCList(lst,fdcURL):\n",
    "    htmlpage = getHTMLText(fdcURL)\n",
    "    soup = BeautifulSoup(htmlpage, \"html.parser\")\n",
    "    for div in soup.find_all(\"div\", { \"class\" : \"lpdaA\" })[:-1]:\n",
    "        for a in div.find_all('a'):\n",
    "            try:\n",
    "                hrefID=a.attrs['href'].split('=')[-1]\n",
    "                lst.append(hrefID)\n",
    "            except:\n",
    "                continue\n",
    "        \n",
    "def getFDCPrice(lst, fdcURL, fpath):\n",
    "    count = 0\n",
    "    for hrefID in lst:\n",
    "        url = 'http://www.ncfdc.com.cn:8092/default.aspx?tname=251\\\\new_lp&hrefID=' + hrefID\n",
    "        html = getHTMLText(url)\n",
    "        try:\n",
    "            if html == \"\":\n",
    "                continue\n",
    "            infoDict = {}\n",
    "            soup = BeautifulSoup(html, 'html.parser')\n",
    "            FDCPrice = soup.find(\"span\", {\"id\":\"ctl20_ADDRESS\"}).text\n",
    "            \n",
    "            name = stockInfo.find_all(attrs={'class':'bets-name'})[0]\n",
    "            infoDict.update({'股票名称': name.text.split()[0]})\n",
    "            \n",
    "def main():\n",
    "    fdc_list_url = \"http://house.ncfdc.com.cn/\"\n",
    "    output_file = 'F://ncfdc.txt'\n",
    "    slist = []\n",
    "    getFDCList(slist, fdc_list_url)\n",
    "    getFDCPrice(slist, fdc_list_url, output_file)"
   ]
  },
  {
   "cell_type": "code",
   "execution_count": 10,
   "metadata": {},
   "outputs": [],
   "source": [
    "import requests\n",
    "from bs4 import BeautifulSoup\n",
    "import time\n",
    "res = requests.get('http://house.ncfdc.com.cn/', timeout = 30)\n",
    "res.raise_for_status()\n",
    "res.encoding = 'utf-8'\n",
    "\n",
    "lst=[]\n",
    "lstname=[]\n",
    "lstaddress=[]\n",
    "lstprice1=[]\n",
    "fpath = 'F://fdcprice.txt'\n",
    "soup1 = BeautifulSoup(res.text, \"html.parser\")\n",
    "for div in soup1.find_all(\"div\", class_=\"lpdaA\" )[:-1]:\n",
    "    for a in div.find_all('a'):\n",
    "        try:\n",
    "            hrefID=a.attrs['href'].split('=')[-1]\n",
    "            hrefname=a.attrs['title']\n",
    "            lst.append(hrefID)\n",
    "            lstname.append(hrefname)\n",
    "        except:\n",
    "            continue\n",
    "headers = { 'Host': 'www.ncfdc.com.cn:8092',\n",
    "            'User-Agent': 'Mozilla/5.0 (Windows NT 10.0; Win64; x64; rv:53.0) Gecko/20100101 Firefox/53.0',\n",
    "            'Accept': 'text/html,application/xhtml+xml,application/xml;q=0.9,*/*;q=0.8',\n",
    "            'Accept-Language': 'zh-CN,zh;q=0.8,en-US;q=0.5,en;q=0.3',\n",
    "            'Accept-Encoding': 'gzip, deflate',\n",
    "            'Referer': 'http://house.ncfdc.com.cn/default.aspx?tname=60/ProjectInfoMain&hrefID=281',\n",
    "            'DNT': '1',\n",
    "            'Connection': 'keep-alive',\n",
    "            'Upgrade-Insecure-Requests': '1',\n",
    "            'Cache-Control': 'max-age=0'}\n",
    "cookie = {'pgv_pvi':'2100119552',\n",
    "          'ASP.NET_SessionId':'xgpvstbfnmnd5cnmjdc21mqf',\n",
    "         ' pgv_si':'s3066473472'}\n",
    "\n",
    "for i in range(99,len(lst)):\n",
    "    fdcinfo = 'http://www.ncfdc.com.cn:8092/default.aspx?tname=251\\\\new_lp&hrefID=' + str(lst[i])\n",
    "    r = requests.get(fdcinfo, headers = headers, cookies = cookie,timeout = 30)\n",
    "    r.raise_for_status()\n",
    "    r.encoding = 'utf-8'\n",
    "    soup2 = BeautifulSoup(r.text, \"html.parser\")\n",
    "    address = soup2.find(\"span\", {\"id\":\"ctl20_ADDRESS\"}).text\n",
    "#    lstaddress.append(address)\n",
    "    fdcprice = 'http://www.ncfdc.com.cn:8092/Module/VV/Charts/ChartsData.ashx?type=price|' + str(lst[i])\n",
    "    rp = requests.get(fdcprice, headers = headers, cookies = cookie,timeout = 30)\n",
    "    rp.raise_for_status()\n",
    "    rp.encoding = 'utf-8'\n",
    "    souprp = BeautifulSoup(rp.text, \"html.parser\")\n",
    "    souprp.find_all(\"item\")\n",
    "    lstprice=[]\n",
    "    for child in souprp.find_all(\"item\"):\n",
    "        lstprice.append(child.text.strip().split())\n",
    "#        lstprice1.append(str(lstprice[:]))\n",
    "#    infoDict = {}\n",
    "    with open(fpath, 'a', encoding='utf-8') as f:\n",
    "        f.write(str(str(lstname[i]) + 'ima' + str(lst[i]) + 'ima' + str(address) + 'ima' + str(lstprice[:])) + '\\n')\n",
    "    time.sleep(0.2)"
   ]
  },
  {
   "cell_type": "code",
   "execution_count": 9,
   "metadata": {},
   "outputs": [
    {
     "data": {
      "text/plain": [
       "98"
      ]
     },
     "execution_count": 9,
     "metadata": {},
     "output_type": "execute_result"
    }
   ],
   "source": [
    "lstname.index('国贸天悦花园')"
   ]
  },
  {
   "cell_type": "code",
   "execution_count": null,
   "metadata": {
    "collapsed": true
   },
   "outputs": [],
   "source": [
    "headers = { 'Host': 'www.ncfdc.com.cn:8092',\n",
    "            'User-Agent': 'Mozilla/5.0 (Windows NT 10.0; Win64; x64; rv:53.0) Gecko/20100101 Firefox/53.0',\n",
    "            'Accept': 'text/html,application/xhtml+xml,application/xml;q=0.9,*/*;q=0.8',\n",
    "            'Accept-Language': 'zh-CN,zh;q=0.8,en-US;q=0.5,en;q=0.3',\n",
    "            'Accept-Encoding': 'gzip, deflate',\n",
    "            'Referer': 'http://house.ncfdc.com.cn/default.aspx?tname=60/ProjectInfoMain&hrefID=281',\n",
    "            'DNT': '1',\n",
    "            'Connection': 'keep-alive',\n",
    "            'Upgrade-Insecure-Requests': '1',\n",
    "            'Cache-Control': 'max-age=0'}\n",
    "cookie = {'pgv_pvi':'822459392',\n",
    "          'ASP.NET_SessionId':'km3jdm3puzrmow55vw5j0v45',\n",
    "         ' pgv_si':'s3186845696'}\n",
    "for hrefID in \n",
    "fdcinfo = 'http://www.ncfdc.com.cn:8092/default.aspx?tname=251\\\\new_lp&hrefID=' + hrefID\n",
    "r = requests.get(\"http://www.ncfdc.com.cn:8092/default.aspx?tname=251\\\\new_lp&hrefID=281\",headers = headers,cookies = cookie,timeout = 10)\n",
    "r.raise_for_status()\n",
    "r.encoding = 'utf-8'\n",
    "soup = BeautifulSoup(r.text, \"html.parser\")\n",
    "soup.find(\"span\", {\"id\":\"ctl20_ADDRESS\"}).text"
   ]
  },
  {
   "cell_type": "code",
   "execution_count": 1,
   "metadata": {},
   "outputs": [
    {
     "data": {
      "text/plain": [
       "104"
      ]
     },
     "execution_count": 1,
     "metadata": {},
     "output_type": "execute_result"
    }
   ],
   "source": [
    "#fdcList = 'http://house.ncfdc.com.cn/'\n",
    "#res = requests.get(fdcList)\n",
    "#res.encoding = 'utf-8'\n",
    "#soup = BeautifulSoup(res.text, 'html.parser')\n",
    "import requests\n",
    "from bs4 import BeautifulSoup\n",
    "lst=[]\n",
    "htmlfile = open(r'C:\\Users\\Administrator\\nc1.htm', 'r', encoding='UTF-8')  #以只读的方式打开本地html文件\n",
    "htmlpage = htmlfile.read()\n",
    "soup = BeautifulSoup(htmlpage, \"html.parser\")\n",
    "for div in soup.find_all(\"div\", { \"class\" : \"lpdaA\" })[:-1]:\n",
    "    for a in div.find_all('a'):\n",
    "        try:\n",
    "            hrefID=a.attrs['href'].split('=')[-1]\n",
    "            lst.append(hrefID)\n",
    "        except:\n",
    "            continue\n",
    "\n",
    "lst.index('856')"
   ]
  },
  {
   "cell_type": "code",
   "execution_count": 1,
   "metadata": {
    "collapsed": true
   },
   "outputs": [],
   "source": [
    "import requests\n",
    "from bs4 import BeautifulSoup\n",
    "import time\n",
    "import numpy as np\n",
    "import pandas as pd\n",
    "res = requests.get('http://house.ncfdc.com.cn/', timeout = 30)\n",
    "res.raise_for_status()\n",
    "res.encoding = 'utf-8'\n",
    "\n",
    "lst=[]\n",
    "lstname=[]\n",
    "lstaddress=[]\n",
    "lstprice1=[]\n",
    "fpath = 'F://fdcprice.txt'\n",
    "soup1 = BeautifulSoup(res.text, \"html.parser\")"
   ]
  },
  {
   "cell_type": "code",
   "execution_count": 2,
   "metadata": {
    "collapsed": true
   },
   "outputs": [],
   "source": [
    "for div in soup1.find_all(\"div\", class_=\"lpdaA\" )[:-1]:\n",
    "    for a in div.find_all('a'):\n",
    "        try:\n",
    "            hrefID=a.attrs['href'].split('=')[-1]\n",
    "            hrefname=a.attrs['title']\n",
    "            lst.append(hrefID)\n",
    "            lstname.append(hrefname)\n",
    "        except:\n",
    "            continue"
   ]
  },
  {
   "cell_type": "code",
   "execution_count": 15,
   "metadata": {},
   "outputs": [],
   "source": [
    "headers = { 'Host': 'www.ncfdc.com.cn:8092',\n",
    "            'User-Agent': 'Mozilla/5.0 (Windows NT 10.0; Win64; x64; rv:53.0) Gecko/20100101 Firefox/53.0',\n",
    "            'Accept': 'text/html,application/xhtml+xml,application/xml;q=0.9,*/*;q=0.8',\n",
    "            'Accept-Language': 'zh-CN,zh;q=0.8,en-US;q=0.5,en;q=0.3',\n",
    "            'Accept-Encoding': 'gzip, deflate',\n",
    "            'Referer': 'http://house.ncfdc.com.cn/default.aspx?tname=60/ProjectInfoMain&hrefID=281',\n",
    "            'DNT': '1',\n",
    "            'Connection': 'keep-alive',\n",
    "            'Upgrade-Insecure-Requests': '1',\n",
    "            'Cache-Control': 'max-age=0'}\n",
    "cookie = {'pgv_pvi':'2100119552',\n",
    "          'ASP.NET_SessionId':'qpf5c0jy2fjozivfj3t3lgez',\n",
    "         ' pgv_si':'s6379149312'}\n",
    "for i in range(len(lst)):\n",
    "    fdcprice = 'http://www.ncfdc.com.cn:8092/Module/VV/Charts/ChartsData.ashx?type=price|' + str(lst[i])\n",
    "    rp = requests.get(fdcprice, headers = headers, cookies = cookie,timeout = 30)\n",
    "    rp.raise_for_status()\n",
    "    rp.encoding = 'utf-8'\n",
    "    souprp = BeautifulSoup(rp.text, \"html.parser\")\n",
    "    "
   ]
  },
  {
   "cell_type": "code",
   "execution_count": 19,
   "metadata": {},
   "outputs": [
    {
     "name": "stdout",
     "output_type": "stream",
     "text": [
      "[['16000', '17/11', '1'], ['14666', '17/12', '1']]\n"
     ]
    }
   ],
   "source": [
    "fdcprice = 'http://www.ncfdc.com.cn:8092/Module/VV/Charts/ChartsData.ashx?type=price|700'\n",
    "rp = requests.get(fdcprice, headers = headers, cookies = cookie,timeout = 30)\n",
    "rp.raise_for_status()\n",
    "rp.encoding = 'utf-8'\n",
    "souprp = BeautifulSoup(rp.text, \"html.parser\")\n",
    "souprp.find_all(\"item\")\n",
    "lstprice=[]\n",
    "for child in souprp.find_all(\"item\"):\n",
    "    lstprice.append(child.text.strip().split())\n",
    "print(lstprice)\n"
   ]
  },
  {
   "cell_type": "code",
   "execution_count": 44,
   "metadata": {},
   "outputs": [
    {
     "ename": "SyntaxError",
     "evalue": "invalid syntax (<ipython-input-44-424552e2b9f7>, line 3)",
     "output_type": "error",
     "traceback": [
      "\u001b[0;36m  File \u001b[0;32m\"<ipython-input-44-424552e2b9f7>\"\u001b[0;36m, line \u001b[0;32m3\u001b[0m\n\u001b[0;31m    \"price\" : lstprice}\u001b[0m\n\u001b[0m          ^\u001b[0m\n\u001b[0;31mSyntaxError\u001b[0m\u001b[0;31m:\u001b[0m invalid syntax\n"
     ]
    }
   ],
   "source": [
    "c={\"id\" : lst,\n",
    "   \"name\" : lstname\n",
    "  \"price\" : lstprice}\n",
    "frame = pd.DataFrame(data=c ,index=lst)\n",
    "frame.to_csv('123.csv',encoding='gbk')"
   ]
  },
  {
   "cell_type": "code",
   "execution_count": 45,
   "metadata": {},
   "outputs": [
    {
     "data": {
      "text/plain": [
       "['16000', '17/11', '1', '14666', '17/12', '1']"
      ]
     },
     "execution_count": 45,
     "metadata": {},
     "output_type": "execute_result"
    }
   ],
   "source": [
    "list1=['16000', '17/11', '1']\n",
    "list2=['14666', '17/12', '1']\n",
    "list3=list1。appelist2\n",
    "list3"
   ]
  },
  {
   "cell_type": "code",
   "execution_count": 35,
   "metadata": {},
   "outputs": [
    {
     "name": "stdout",
     "output_type": "stream",
     "text": [
      "<map object at 0x000001E5FB35FC88>\n",
      "[{'date': '2017-01', 'c7': 1, 'c8': 'a', 'c9': 'x'}, {'date': '2017-02', 'c7': 2, 'c8': 'b', 'c9': 'y'}, {'date': '2017-03', 'c7': 3, 'c8': 'c', 'c9': 'z'}, {'date': '2017-04', 'c7': 4, 'c8': 'd', 'c9': 'w'}]\n"
     ]
    }
   ],
   "source": [
    "date=['2017-01','2017-02','2017-03','2017-04']\n",
    "c7_list=[1,2,3,4]    \n",
    "c8_list=['a','b','c','d']\n",
    "c9_list=['x','y','z','w']\n",
    "new_list=[]\n",
    "new_dict=[]\n",
    "mid=map(list,zip(date,c7_list,c8_list,c9_list))\n",
    "for item in mid:\n",
    "    new_dict=dict(zip(['date','c7','c8','c9'],item))\n",
    "    new_list.append(new_dict)\n",
    "print (new_list)"
   ]
  }
 ],
 "metadata": {
  "kernelspec": {
   "display_name": "Python 3",
   "language": "python",
   "name": "python3"
  },
  "language_info": {
   "codemirror_mode": {
    "name": "ipython",
    "version": 3
   },
   "file_extension": ".py",
   "mimetype": "text/x-python",
   "name": "python",
   "nbconvert_exporter": "python",
   "pygments_lexer": "ipython3",
   "version": "3.7.4"
  }
 },
 "nbformat": 4,
 "nbformat_minor": 2
}
